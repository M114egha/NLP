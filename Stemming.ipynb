{
 "cells": [
  {
   "cell_type": "markdown",
   "id": "ce04fc0c",
   "metadata": {},
   "source": [
    "#### PORTER STEMMER"
   ]
  },
  {
   "cell_type": "code",
   "execution_count": 1,
   "id": "115b0544",
   "metadata": {},
   "outputs": [],
   "source": [
    "words=['eating', 'eats','eaten', 'writing','writes','programmming','programmer','programs','programmed','programming','history']"
   ]
  },
  {
   "cell_type": "code",
   "execution_count": 2,
   "id": "77a2dd30",
   "metadata": {},
   "outputs": [],
   "source": [
    "from nltk.stem import PorterStemmer\n",
    "stemmer=PorterStemmer()"
   ]
  },
  {
   "cell_type": "code",
   "execution_count": 3,
   "id": "a0a401aa",
   "metadata": {},
   "outputs": [
    {
     "name": "stdout",
     "output_type": "stream",
     "text": [
      "eating---->eat\n",
      "eats---->eat\n",
      "eaten---->eaten\n",
      "writing---->write\n",
      "writes---->write\n",
      "programmming---->programm\n",
      "programmer---->programm\n",
      "programs---->program\n",
      "programmed---->program\n",
      "programming---->program\n",
      "history---->histori\n"
     ]
    }
   ],
   "source": [
    "for word in words:\n",
    "    print(word + \"---->\" + stemmer.stem(word))"
   ]
  },
  {
   "cell_type": "code",
   "execution_count": 4,
   "id": "41432e50",
   "metadata": {},
   "outputs": [
    {
     "data": {
      "text/plain": [
       "'congratul'"
      ]
     },
     "execution_count": 4,
     "metadata": {},
     "output_type": "execute_result"
    }
   ],
   "source": [
    "stemmer.stem('congratulations')"
   ]
  },
  {
   "cell_type": "markdown",
   "id": "8ac46d67",
   "metadata": {},
   "source": [
    "### REGEXPStemmer"
   ]
  },
  {
   "cell_type": "code",
   "execution_count": 26,
   "id": "46fcba19",
   "metadata": {},
   "outputs": [],
   "source": [
    "from nltk.stem import RegexpStemmer\n",
    "\n",
    "stemmer_reg = RegexpStemmer('ing$|s$|es$|able$')  # Removed spaces\n",
    "\n"
   ]
  },
  {
   "cell_type": "code",
   "execution_count": 14,
   "id": "529e3abf",
   "metadata": {},
   "outputs": [
    {
     "data": {
      "text/plain": [
       "'eat'"
      ]
     },
     "execution_count": 14,
     "metadata": {},
     "output_type": "execute_result"
    }
   ],
   "source": [
    "stemmer_reg.stem('eating')"
   ]
  },
  {
   "cell_type": "code",
   "execution_count": 18,
   "id": "9666fb6a",
   "metadata": {},
   "outputs": [
    {
     "name": "stdout",
     "output_type": "stream",
     "text": [
      "eat\n",
      "do\n"
     ]
    }
   ],
   "source": [
    "print(stemmer_reg.stem('eats'))\n",
    "print(stemmer_reg.stem('doable'))"
   ]
  },
  {
   "cell_type": "markdown",
   "id": "a737a87c",
   "metadata": {},
   "source": [
    "### Snowball Stemmer"
   ]
  },
  {
   "cell_type": "code",
   "execution_count": 19,
   "id": "aecd774e",
   "metadata": {},
   "outputs": [],
   "source": [
    "from nltk.stem import SnowballStemmer\n"
   ]
  },
  {
   "cell_type": "code",
   "execution_count": 24,
   "id": "f0e82cac",
   "metadata": {},
   "outputs": [
    {
     "name": "stdout",
     "output_type": "stream",
     "text": [
      "eat\n"
     ]
    },
    {
     "data": {
      "text/plain": [
       "'supris'"
      ]
     },
     "execution_count": 24,
     "metadata": {},
     "output_type": "execute_result"
    }
   ],
   "source": [
    "snow_stemmer=SnowballStemmer('english')\n",
    "print(snow_stemmer.stem('eating'))\n",
    "snow_stemmer.stem('suprisingly')"
   ]
  },
  {
   "cell_type": "code",
   "execution_count": 29,
   "id": "0ef5f030",
   "metadata": {},
   "outputs": [
    {
     "data": {
      "text/plain": [
       "'fair'"
      ]
     },
     "execution_count": 29,
     "metadata": {},
     "output_type": "execute_result"
    }
   ],
   "source": [
    "snow_stemmer.stem('fairly')"
   ]
  },
  {
   "cell_type": "code",
   "execution_count": 31,
   "id": "311158b3",
   "metadata": {},
   "outputs": [
    {
     "data": {
      "text/plain": [
       "'fairly'"
      ]
     },
     "execution_count": 31,
     "metadata": {},
     "output_type": "execute_result"
    }
   ],
   "source": [
    "stemmer.stem('fairly')"
   ]
  },
  {
   "cell_type": "code",
   "execution_count": null,
   "id": "f65f1b0f",
   "metadata": {},
   "outputs": [],
   "source": []
  }
 ],
 "metadata": {
  "kernelspec": {
   "display_name": "base",
   "language": "python",
   "name": "python3"
  },
  "language_info": {
   "codemirror_mode": {
    "name": "ipython",
    "version": 3
   },
   "file_extension": ".py",
   "mimetype": "text/x-python",
   "name": "python",
   "nbconvert_exporter": "python",
   "pygments_lexer": "ipython3",
   "version": "3.12.7"
  }
 },
 "nbformat": 4,
 "nbformat_minor": 5
}
