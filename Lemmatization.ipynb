{
 "cells": [
  {
   "cell_type": "markdown",
   "id": "532bac15",
   "metadata": {},
   "source": [
    "### WORDNET LEMMATIZER"
   ]
  },
  {
   "cell_type": "code",
   "execution_count": 2,
   "id": "26265a14",
   "metadata": {},
   "outputs": [],
   "source": [
    "from nltk.stem import WordNetLemmatizer\n",
    "lemmatizer = WordNetLemmatizer()\n"
   ]
  },
  {
   "cell_type": "code",
   "execution_count": 13,
   "id": "105938f9",
   "metadata": {},
   "outputs": [
    {
     "name": "stdout",
     "output_type": "stream",
     "text": [
      "run\n",
      "good\n",
      "arun\n"
     ]
    }
   ],
   "source": [
    "print(lemmatizer.lemmatize('running', pos='v'))  \n",
    "print(lemmatizer.lemmatize('better', pos='a'))\n",
    "print(lemmatizer.lemmatize('arun', pos='n')) "
   ]
  },
  {
   "cell_type": "code",
   "execution_count": 14,
   "id": "6bffb758",
   "metadata": {},
   "outputs": [],
   "source": [
    "words=['eating', 'eats','eaten', 'writing','writes','programmming','programmer','programs','programmed','programming','history']"
   ]
  },
  {
   "cell_type": "code",
   "execution_count": 18,
   "id": "4b18ae02",
   "metadata": {},
   "outputs": [
    {
     "name": "stdout",
     "output_type": "stream",
     "text": [
      "eating  -----> eat\n",
      "eats  -----> eat\n",
      "eaten  -----> eat\n",
      "writing  -----> write\n",
      "writes  -----> write\n",
      "programmming  -----> programmming\n",
      "programmer  -----> programmer\n",
      "programs  -----> program\n",
      "programmed  -----> program\n",
      "programming  -----> program\n",
      "history  -----> history\n"
     ]
    }
   ],
   "source": [
    "for word in words:\n",
    "    print(f\"{word}  -----> \" + lemmatizer.lemmatize(word , pos='v'))"
   ]
  },
  {
   "cell_type": "code",
   "execution_count": null,
   "id": "0ff5993d",
   "metadata": {},
   "outputs": [
    {
     "data": {
      "text/plain": [
       "'fairly'"
      ]
     },
     "execution_count": 19,
     "metadata": {},
     "output_type": "execute_result"
    }
   ],
   "source": [
    "lemmatizer.lemmatize('fairly', pos='v') "
   ]
  }
 ],
 "metadata": {
  "kernelspec": {
   "display_name": "base",
   "language": "python",
   "name": "python3"
  },
  "language_info": {
   "codemirror_mode": {
    "name": "ipython",
    "version": 3
   },
   "file_extension": ".py",
   "mimetype": "text/x-python",
   "name": "python",
   "nbconvert_exporter": "python",
   "pygments_lexer": "ipython3",
   "version": "3.12.7"
  }
 },
 "nbformat": 4,
 "nbformat_minor": 5
}
