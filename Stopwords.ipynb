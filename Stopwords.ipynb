{
 "cells": [
  {
   "cell_type": "markdown",
   "id": "b78380da",
   "metadata": {},
   "source": [
    "## Text-Preprocessing using NLTK"
   ]
  },
  {
   "cell_type": "code",
   "execution_count": 27,
   "id": "f7eb5cad",
   "metadata": {},
   "outputs": [],
   "source": [
    "para=\"Mohandas Karamchand Gandhi, born on October 2, 1869, in Porbandar, Gujarat, was the son of Porbandar's chief minister, Karamchand Gandhi, and his mother was Putlibai. He grew up in a deeply religious family, where he learned about self-discipline and non-violence from a young age. Mahatma Gandhi’s mother, Putilbai, taught him several important virtues of life, which Mahatma Gandhi followed with his whole heart. This is the reason he is said to be a man of great values.At the age of 19, Gandhi left his home to study law in London. Time passed and in 1891 he started his law practice in Bombay court. As he found success, he was approached to represent an Indian firm in South Africa.With his wife Kasturbai and his children, he lived in South Africa for almost 20 years. So you may be thinking- what resulted in him fighting for the independence of the country?So here we begin the lessons we get to learn from his actions- ‘We shape our destiny by making our own decisions.’ Every decision has a backstory, and so made his decision to fight for the country.When Mahatma Gandhi lived in South Africa, he experienced a lot of unfair treatment because he was Indian. One time, while he was traveling on a train, a white conductor beat him and forced him out of the first-class section because he didn't want to give up his seat to a European passenger.This event is seen as a moment that made Gandhi think about how Indians were treated in society, and it had a big impact on his life. That day Gandhiji decided to bring in a good change for the betterment of the people, and the enthusiastic leader never backed off. He could not tolerate the indiscrimination and the biased behaviour. \""
   ]
  },
  {
   "cell_type": "code",
   "execution_count": 4,
   "id": "4d084fe3",
   "metadata": {},
   "outputs": [],
   "source": [
    "from nltk.stem import PorterStemmer\n",
    "from nltk.corpus import stopwords"
   ]
  },
  {
   "cell_type": "code",
   "execution_count": 5,
   "id": "3f274c17",
   "metadata": {},
   "outputs": [
    {
     "name": "stderr",
     "output_type": "stream",
     "text": [
      "[nltk_data] Downloading package stopwords to\n",
      "[nltk_data]     C:\\Users\\HP\\AppData\\Roaming\\nltk_data...\n",
      "[nltk_data]   Unzipping corpora\\stopwords.zip.\n"
     ]
    },
    {
     "data": {
      "text/plain": [
       "True"
      ]
     },
     "execution_count": 5,
     "metadata": {},
     "output_type": "execute_result"
    }
   ],
   "source": [
    "import nltk\n",
    "nltk.download('stopwords')"
   ]
  },
  {
   "cell_type": "code",
   "execution_count": 6,
   "id": "ff9e5aa5",
   "metadata": {},
   "outputs": [],
   "source": [
    "stemmer = PorterStemmer()"
   ]
  },
  {
   "cell_type": "code",
   "execution_count": 28,
   "id": "15089693",
   "metadata": {},
   "outputs": [
    {
     "name": "stdout",
     "output_type": "stream",
     "text": [
      "[\"Mohandas Karamchand Gandhi, born on October 2, 1869, in Porbandar, Gujarat, was the son of Porbandar's chief minister, Karamchand Gandhi, and his mother was Putlibai.\", 'He grew up in a deeply religious family, where he learned about self-discipline and non-violence from a young age.', 'Mahatma Gandhi’s mother, Putilbai, taught him several important virtues of life, which Mahatma Gandhi followed with his whole heart.', 'This is the reason he is said to be a man of great values.At the age of 19, Gandhi left his home to study law in London.', 'Time passed and in 1891 he started his law practice in Bombay court.', 'As he found success, he was approached to represent an Indian firm in South Africa.With his wife Kasturbai and his children, he lived in South Africa for almost 20 years.', 'So you may be thinking- what resulted in him fighting for the independence of the country?So here we begin the lessons we get to learn from his actions- ‘We shape our destiny by making our own decisions.’ Every decision has a backstory, and so made his decision to fight for the country.When Mahatma Gandhi lived in South Africa, he experienced a lot of unfair treatment because he was Indian.', \"One time, while he was traveling on a train, a white conductor beat him and forced him out of the first-class section because he didn't want to give up his seat to a European passenger.This event is seen as a moment that made Gandhi think about how Indians were treated in society, and it had a big impact on his life.\", 'That day Gandhiji decided to bring in a good change for the betterment of the people, and the enthusiastic leader never backed off.', 'He could not tolerate the indiscrimination and the biased behaviour.']\n",
      "<class 'list'>\n"
     ]
    }
   ],
   "source": [
    "sentences=nltk.sent_tokenize(para)\n",
    "print(sentences)\n",
    "print(type(sentences))"
   ]
  },
  {
   "cell_type": "code",
   "execution_count": 18,
   "id": "55297335",
   "metadata": {},
   "outputs": [],
   "source": [
    "#Applying stemming and removing stop words\n",
    "for i in range(len(sentences)):\n",
    "    words=nltk.word_tokenize(sentences[i]) \n",
    "    words=[stemmer.stem(word) for word in words if word not in set(stopwords.words('english'))]\n",
    "    sentences[i]=' '.join(words)"
   ]
  },
  {
   "cell_type": "code",
   "execution_count": 20,
   "id": "39ebb4bb",
   "metadata": {},
   "outputs": [
    {
     "data": {
      "text/plain": [
       "[\"mohanda karamchand gandhi , born octob 2 , 1869 , porbandar , gujarat , son porbandar 's chief minist , karamchand gandhi , mother putlibai .\",\n",
       " 'he grew deepli religi famili , learn self-disciplin non-viol young age .',\n",
       " 'mahatma gandhi ’ mother , putilbai , taught sever import virtu life , mahatma gandhi follow whole heart .',\n",
       " 'thi reason said man great values.at age 19 , gandhi left home studi law london .',\n",
       " 'time pass 1891 start law practic bombay court .',\n",
       " 'as found success , approach repres indian firm south africa.with wife kasturbai children , live south africa almost 20 year .',\n",
       " 'so may thinking- result fight independ countri ? so begin lesson get learn actions- ‘ we shape destini make decisions. ’ everi decis backstori , made decis fight country.when mahatma gandhi live south africa , experienc lot unfair treatment indian .',\n",
       " \"one time , travel train , white conductor beat forc first-class section n't want give seat european passenger.thi event seen moment made gandhi think indian treat societi , big impact life .\",\n",
       " 'that day gandhiji decid bring good chang better peopl , enthusiast leader never back .',\n",
       " 'he could toler indiscrimin bias behaviour .']"
      ]
     },
     "execution_count": 20,
     "metadata": {},
     "output_type": "execute_result"
    }
   ],
   "source": [
    "sentences"
   ]
  },
  {
   "cell_type": "markdown",
   "id": "8a1620ad",
   "metadata": {},
   "source": [
    "- Applying Snowball stemmerto stem the words and apply stopword removeal"
   ]
  },
  {
   "cell_type": "code",
   "execution_count": 21,
   "id": "702e3980",
   "metadata": {},
   "outputs": [],
   "source": [
    "from nltk.stem import SnowballStemmer\n",
    "snow_stemmer=SnowballStemmer('english')"
   ]
  },
  {
   "cell_type": "code",
   "execution_count": 23,
   "id": "04e5174d",
   "metadata": {},
   "outputs": [
    {
     "name": "stdout",
     "output_type": "stream",
     "text": [
      "[\"Mohandas Karamchand Gandhi, born on October 2, 1869, in Porbandar, Gujarat, was the son of Porbandar's chief minister, Karamchand Gandhi, and his mother was Putlibai.\", 'He grew up in a deeply religious family, where he learned about self-discipline and non-violence from a young age.', 'Mahatma Gandhi’s mother, Putilbai, taught him several important virtues of life, which Mahatma Gandhi followed with his whole heart.', 'This is the reason he is said to be a man of great values.At the age of 19, Gandhi left his home to study law in London.', 'Time passed and in 1891 he started his law practice in Bombay court.', 'As he found success, he was approached to represent an Indian firm in South Africa.With his wife Kasturbai and his children, he lived in South Africa for almost 20 years.', 'So you may be thinking- what resulted in him fighting for the independence of the country?So here we begin the lessons we get to learn from his actions- ‘We shape our destiny by making our own decisions.’ Every decision has a backstory, and so made his decision to fight for the country.When Mahatma Gandhi lived in South Africa, he experienced a lot of unfair treatment because he was Indian.', \"One time, while he was traveling on a train, a white conductor beat him and forced him out of the first-class section because he didn't want to give up his seat to a European passenger.This event is seen as a moment that made Gandhi think about how Indians were treated in society, and it had a big impact on his life.\", 'That day Gandhiji decided to bring in a good change for the betterment of the people, and the enthusiastic leader never backed off.', 'He could not tolerate the indiscrimination and the biased behaviour.']\n"
     ]
    }
   ],
   "source": [
    "sentences=nltk.sent_tokenize(para)\n",
    "print(sentences)"
   ]
  },
  {
   "cell_type": "code",
   "execution_count": 24,
   "id": "7d764666",
   "metadata": {},
   "outputs": [],
   "source": [
    "#Applying stemming and removing stop words\n",
    "for i in range(len(sentences)):\n",
    "    words=nltk.word_tokenize(sentences[i]) \n",
    "    words=[snow_stemmer.stem(word) for word in words if word not in set(stopwords.words('english'))]\n",
    "    sentences[i]=' '.join(words)"
   ]
  },
  {
   "cell_type": "code",
   "execution_count": 25,
   "id": "3d231d51",
   "metadata": {},
   "outputs": [
    {
     "data": {
      "text/plain": [
       "[\"mohanda karamchand gandhi , born octob 2 , 1869 , porbandar , gujarat , son porbandar 's chief minist , karamchand gandhi , mother putlibai .\",\n",
       " 'he grew deepli religi famili , learn self-disciplin non-viol young age .',\n",
       " 'mahatma gandhi ’ mother , putilbai , taught sever import virtu life , mahatma gandhi follow whole heart .',\n",
       " 'this reason said man great values.at age 19 , gandhi left home studi law london .',\n",
       " 'time pass 1891 start law practic bombay court .',\n",
       " 'as found success , approach repres indian firm south africa.with wife kasturbai children , live south africa almost 20 year .',\n",
       " 'so may thinking- result fight independ countri ? so begin lesson get learn actions- ‘ we shape destini make decisions. ’ everi decis backstori , made decis fight country.when mahatma gandhi live south africa , experienc lot unfair treatment indian .',\n",
       " \"one time , travel train , white conductor beat forc first-class section n't want give seat european passenger.thi event seen moment made gandhi think indian treat societi , big impact life .\",\n",
       " 'that day gandhiji decid bring good chang better peopl , enthusiast leader never back .',\n",
       " 'he could toler indiscrimin bias behaviour .']"
      ]
     },
     "execution_count": 25,
     "metadata": {},
     "output_type": "execute_result"
    }
   ],
   "source": [
    "sentences"
   ]
  },
  {
   "cell_type": "markdown",
   "id": "beb75f1b",
   "metadata": {},
   "source": [
    "- Applying Wordnet lemmatizer"
   ]
  },
  {
   "cell_type": "code",
   "execution_count": 26,
   "id": "4d3cb905",
   "metadata": {},
   "outputs": [],
   "source": [
    "from nltk.stem import WordNetLemmatizer\n",
    "lemmatizer=WordNetLemmatizer()"
   ]
  },
  {
   "cell_type": "code",
   "execution_count": 30,
   "id": "a0bbeed2",
   "metadata": {},
   "outputs": [],
   "source": [
    "#Applying stemming and removing stop words\n",
    "for i in range(len(sentences)):\n",
    "    words=nltk.word_tokenize(sentences[i]) \n",
    "    words=[lemmatizer.lemmatize(word) for word in words if word not in set(stopwords.words('english'))]\n",
    "    sentences[i]=' '.join(words)"
   ]
  },
  {
   "cell_type": "code",
   "execution_count": 31,
   "id": "b56add25",
   "metadata": {},
   "outputs": [
    {
     "data": {
      "text/plain": [
       "[\"mohanda karamchand gandhi , born octob 2 , 1869 , porbandar , gujarat , son porbandar 's chief minist , karamchand gandhi , mother putlibai .\",\n",
       " 'grew deepli religi famili , learn self-disciplin non-viol young age .',\n",
       " 'mahatma gandhi ’ mother , putilbai , taught sever import virtu life , mahatma gandhi follow whole heart .',\n",
       " 'reason said man great values.at age 19 , gandhi left home studi law london .',\n",
       " 'time pas 1891 start law practic bombay court .',\n",
       " 'found success , approach repres indian firm south africa.with wife kasturbai child , live south africa almost 20 year .',\n",
       " 'may thinking- result fight independ countri ? begin lesson get learn actions- ‘ shape destini make decision . ’ everi decis backstori , made decis fight country.when mahatma gandhi live south africa , experienc lot unfair treatment indian .',\n",
       " \"one time , travel train , white conductor beat forc first-class section n't want give seat european passenger.thi event seen moment made gandhi think indian treat societi , big impact life .\",\n",
       " 'day gandhiji decid bring good chang better peopl , enthusiast leader never back .',\n",
       " 'could toler indiscrimin bias behaviour .']"
      ]
     },
     "execution_count": 31,
     "metadata": {},
     "output_type": "execute_result"
    }
   ],
   "source": [
    "sentences"
   ]
  },
  {
   "cell_type": "code",
   "execution_count": null,
   "id": "eb4ebe39",
   "metadata": {},
   "outputs": [],
   "source": []
  }
 ],
 "metadata": {
  "kernelspec": {
   "display_name": "base",
   "language": "python",
   "name": "python3"
  },
  "language_info": {
   "codemirror_mode": {
    "name": "ipython",
    "version": 3
   },
   "file_extension": ".py",
   "mimetype": "text/x-python",
   "name": "python",
   "nbconvert_exporter": "python",
   "pygments_lexer": "ipython3",
   "version": "3.12.7"
  }
 },
 "nbformat": 4,
 "nbformat_minor": 5
}
